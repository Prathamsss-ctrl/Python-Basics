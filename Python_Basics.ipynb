{
  "nbformat": 4,
  "nbformat_minor": 0,
  "metadata": {
    "colab": {
      "provenance": []
    },
    "kernelspec": {
      "name": "python3",
      "display_name": "Python 3"
    },
    "language_info": {
      "name": "python"
    }
  },
  "cells": [
    {
      "cell_type": "markdown",
      "source": [
        "# Python Basics"
      ],
      "metadata": {
        "id": "BiCl3yrVHwiF"
      }
    },
    {
      "cell_type": "markdown",
      "source": [
        "1. What is Python, and why is it popular?\n",
        "\n",
        "  - Python is a programming language that’s super easy to read and write. It’s popular because it’s simple, works for almost anything, and has tons of ready-made libraries so you don’t have to start from scratch.\n",
        "\n",
        "2. What is an interpreter in Python\n",
        "\n",
        "  - It’s like a translator that reads Python code and runs it line by line so the computer understands what to do.\n",
        "\n",
        "3. What are pre-defined keywords in Python\n",
        "\n",
        "  - These are special words Python already uses for its own rules, like if, for, True, etc. You can’t make your own meaning for them.\n",
        "\n",
        "4. Can keywords be used as variable names\n",
        "\n",
        "  - Nope. If you try naming a variable if or while, Python will get confused and throw an error.\n",
        "\n",
        "5. What is mutability in Python\n",
        "\n",
        "  - It’s about whether you can change the data inside something after it’s created.\n",
        "\n",
        "6. Why are lists mutable, but tuples are immutable\n",
        "\n",
        "  - Lists can be changed anytime — you can add, remove, or edit stuff. Tuples are like “locked” lists — once made, you can’t change what’s inside.\n",
        "\n",
        "7. What is the difference between “==” and “is” operators in Python\n",
        "\n",
        "  - == checks if values are the same.\n",
        "is checks if both things are actually the same object in memory.\n",
        "\n",
        "8. What are logical operators in Python\n",
        "\n",
        "  - They’re used to connect conditions:\n",
        "- and → both must be true\n",
        "- or → at least one true\n",
        "- not → flips the truth\n",
        "\n",
        "9. What is type casting in Python\n",
        "\n",
        "  - It’s changing data from one type to another, like turning \"5\" (string) into 5 (integer).\n",
        "\n",
        "10. What is the difference between implicit and explicit type casting\n",
        "\n",
        "  - Implicit → Python does it automatically (like 5 + 3.0 becomes 8.0).\n",
        "Explicit → You do it yourself using functions like int() or float().\n",
        "\n",
        "11. What is the purpose of conditional statements in Python\n",
        "\n",
        "  - They let your code make decisions. Like, “If it’s raining, print ‘Take an umbrella’.”\n",
        "\n",
        "12. How does the elif statement work\n",
        "\n",
        "  - It’s like saying “If the first thing isn’t true, check this next thing.”\n",
        "\n",
        "13. What is the difference between for and while loops\n",
        "\n",
        "  - for → Runs a fixed number of times.\n",
        "  while → Keeps running until a condition becomes false.\n",
        "\n",
        "14. Describe a scenario where a while loop is more suitable than a for loop\n",
        "\n",
        "  - If you don’t know exactly how many times you’ll loop — like waiting until someone guesses the right password — while is better.\n"
      ],
      "metadata": {
        "id": "f5uViMRCH8HF"
      }
    },
    {
      "cell_type": "code",
      "execution_count": 1,
      "metadata": {
        "colab": {
          "base_uri": "https://localhost:8080/"
        },
        "id": "Jdf8j6Q2HiDs",
        "outputId": "f517a302-c14b-4bdb-c1fd-49477f3ba1cc"
      },
      "outputs": [
        {
          "output_type": "stream",
          "name": "stdout",
          "text": [
            "Hello, World!\n"
          ]
        }
      ],
      "source": [
        "# 1 Write a Python program to print \"Hello, World!\"\n",
        "print(\"Hello, World!\")"
      ]
    },
    {
      "cell_type": "code",
      "source": [
        "# 2 Write a Python program that displays your name and age.\n",
        "nm = \"John\"\n",
        "ag = 16\n",
        "print(\"Name:\", nm)\n",
        "print(\"Age:\", ag)"
      ],
      "metadata": {
        "colab": {
          "base_uri": "https://localhost:8080/"
        },
        "id": "QuIBy__6K8Gi",
        "outputId": "c00b6415-bb14-49b6-add2-fda6e16908d2"
      },
      "execution_count": 2,
      "outputs": [
        {
          "output_type": "stream",
          "name": "stdout",
          "text": [
            "Name: John\n",
            "Age: 16\n"
          ]
        }
      ]
    },
    {
      "cell_type": "code",
      "source": [
        "# 3 Write code to print all the pre-defined keywords in Python using the keyword library.\n",
        "import keyword\n",
        "print(keyword.kwlist)"
      ],
      "metadata": {
        "colab": {
          "base_uri": "https://localhost:8080/"
        },
        "id": "xOv8ha-LLCf2",
        "outputId": "9ea6edfc-4e74-459a-90e5-8f4e04080c53"
      },
      "execution_count": 3,
      "outputs": [
        {
          "output_type": "stream",
          "name": "stdout",
          "text": [
            "['False', 'None', 'True', 'and', 'as', 'assert', 'async', 'await', 'break', 'class', 'continue', 'def', 'del', 'elif', 'else', 'except', 'finally', 'for', 'from', 'global', 'if', 'import', 'in', 'is', 'lambda', 'nonlocal', 'not', 'or', 'pass', 'raise', 'return', 'try', 'while', 'with', 'yield']\n"
          ]
        }
      ]
    },
    {
      "cell_type": "code",
      "source": [
        "# 4 Write a program that checks if a given word is a Python keyword.\n",
        "wd = input(\"Enter a word: \")\n",
        "if keyword.iskeyword(wd):\n",
        "    print(wd, \"is a Python keyword\")\n",
        "else:\n",
        "    print(wd, \"is NOT a Python keyword\")"
      ],
      "metadata": {
        "colab": {
          "base_uri": "https://localhost:8080/"
        },
        "id": "dnunT_GCLE7f",
        "outputId": "1c91bdde-094f-4817-aaa0-0048be7b69d4"
      },
      "execution_count": 5,
      "outputs": [
        {
          "output_type": "stream",
          "name": "stdout",
          "text": [
            "Enter a word: if\n",
            "if is a Python keyword\n"
          ]
        }
      ]
    },
    {
      "cell_type": "code",
      "source": [
        "# 5 Write a function to demonstrate the behavior of mutable and immutable arguments.\n",
        "def changeData(num, lst):\n",
        "    num += 1\n",
        "    lst.append(4)\n",
        "\n",
        "x = 10\n",
        "myL = [1, 2, 3]\n",
        "changeData(x, myL)\n",
        "print(\"Number after function:\", x)\n",
        "print(\"List after function:\", myL)"
      ],
      "metadata": {
        "colab": {
          "base_uri": "https://localhost:8080/"
        },
        "id": "fL46wNkuLI3z",
        "outputId": "e914af86-61fc-49e7-e376-a8b8aa79f0ec"
      },
      "execution_count": 9,
      "outputs": [
        {
          "output_type": "stream",
          "name": "stdout",
          "text": [
            "Number after function: 10\n",
            "List after function: [1, 2, 3, 4]\n"
          ]
        }
      ]
    },
    {
      "cell_type": "code",
      "source": [
        "# 6 Write a program that performs basic arithmetic operations on two user-input numbers.\n",
        "a = float(input(\"Enter first number: \"))\n",
        "b = float(input(\"Enter second number: \"))\n",
        "print(\"Sum:\", a + b)\n",
        "print(\"Difference:\", a - b)\n",
        "print(\"Product:\", a * b)\n",
        "print(\"Quotient:\", a / b if b != 0 else \"Division by zero error\")"
      ],
      "metadata": {
        "colab": {
          "base_uri": "https://localhost:8080/"
        },
        "id": "3YZYrNSdLi-6",
        "outputId": "b8701b53-a29d-4bf3-cd6d-2369b6f99621"
      },
      "execution_count": 20,
      "outputs": [
        {
          "output_type": "stream",
          "name": "stdout",
          "text": [
            "Enter first number: 5\n",
            "Enter second number: 6\n",
            "Sum: 11.0\n",
            "Difference: -1.0\n",
            "Product: 30.0\n",
            "Quotient: 0.8333333333333334\n"
          ]
        }
      ]
    },
    {
      "cell_type": "code",
      "source": [
        "# 7 Write a program to demonstrate the use of logical operators.\n",
        "p = True\n",
        "q = False\n",
        "print(\"p and q:\", p and q)\n",
        "print(\"p or q:\", p or q)\n",
        "print(\"not p:\", not p)"
      ],
      "metadata": {
        "colab": {
          "base_uri": "https://localhost:8080/"
        },
        "id": "OEhBBx0xLlXh",
        "outputId": "f0262e1f-7e48-4eb2-8812-575a772c81f0"
      },
      "execution_count": 19,
      "outputs": [
        {
          "output_type": "stream",
          "name": "stdout",
          "text": [
            "p and q: False\n",
            "p or q: True\n",
            "not p: False\n"
          ]
        }
      ]
    },
    {
      "cell_type": "code",
      "source": [
        "# 8 Create a list and tuple in Python, and demonstrate how attempting to change an element works differently for each.\n",
        "myL = [1, 2, 3]\n",
        "myT = (1, 2, 3)\n",
        "myL[0] = 10\n",
        "print(\"Modified list:\", myL)\n",
        "try:\n",
        "    myT[0] = 10\n",
        "except TypeError as e:\n",
        "    print(\"Error:\", e)"
      ],
      "metadata": {
        "colab": {
          "base_uri": "https://localhost:8080/"
        },
        "id": "QmOoqsMRLoCU",
        "outputId": "1291bb1f-fb2a-441e-ddc4-0eb7663e45a1"
      },
      "execution_count": 18,
      "outputs": [
        {
          "output_type": "stream",
          "name": "stdout",
          "text": [
            "Modified list: [10, 2, 3]\n",
            "Error: 'tuple' object does not support item assignment\n"
          ]
        }
      ]
    },
    {
      "cell_type": "code",
      "source": [
        "# 9 Write a Python program to convert user input from string to integer, float, and boolean types.\n",
        "val = input(\"Enter a value: \")\n",
        "print(\"As integer:\", int(val))\n",
        "print(\"As float:\", float(val))\n",
        "print(\"As boolean:\", bool(val))"
      ],
      "metadata": {
        "colab": {
          "base_uri": "https://localhost:8080/"
        },
        "id": "f9IwdEJ7Lqop",
        "outputId": "5e2fdb05-39b1-4de9-9554-5854eee234b5"
      },
      "execution_count": 17,
      "outputs": [
        {
          "output_type": "stream",
          "name": "stdout",
          "text": [
            "Enter a value: 10\n",
            "As integer: 10\n",
            "As float: 10.0\n",
            "As boolean: True\n"
          ]
        }
      ]
    },
    {
      "cell_type": "code",
      "source": [
        "# 10 Write code to demonstrate type casting with list elements.\n",
        "strNums = [\"1\", \"2\", \"3\"]\n",
        "intNums = list(map(int, strNums))\n",
        "print(\"Converted integers:\", intNums)"
      ],
      "metadata": {
        "colab": {
          "base_uri": "https://localhost:8080/"
        },
        "id": "vOHLqIElLtJw",
        "outputId": "b845e5e2-3197-498e-a253-331ffc26a4ac"
      },
      "execution_count": 16,
      "outputs": [
        {
          "output_type": "stream",
          "name": "stdout",
          "text": [
            "Converted integers: [1, 2, 3]\n"
          ]
        }
      ]
    },
    {
      "cell_type": "code",
      "source": [
        "# 11 Write a program that checks if a number is positive, negative, or zero.\n",
        "num = float(input(\"Enter a number: \"))\n",
        "if num > 0:\n",
        "    print(\"Positive\")\n",
        "elif num < 0:\n",
        "    print(\"Negative\")\n",
        "else:\n",
        "    print(\"Zero\")"
      ],
      "metadata": {
        "colab": {
          "base_uri": "https://localhost:8080/"
        },
        "id": "ivmopPDDLxTR",
        "outputId": "624a01d9-31c5-48af-9bd1-b481eb3ccde7"
      },
      "execution_count": 15,
      "outputs": [
        {
          "output_type": "stream",
          "name": "stdout",
          "text": [
            "Enter a number: -6\n",
            "Negative\n"
          ]
        }
      ]
    },
    {
      "cell_type": "code",
      "source": [
        "# 12 Write a for loop to print numbers from 1 to 10.\n",
        "for i in range(1, 11):\n",
        "    print(i)"
      ],
      "metadata": {
        "colab": {
          "base_uri": "https://localhost:8080/"
        },
        "id": "_JD_cZ3gLziz",
        "outputId": "6db544a4-678b-4396-f3d6-fd655da51cf4"
      },
      "execution_count": 10,
      "outputs": [
        {
          "output_type": "stream",
          "name": "stdout",
          "text": [
            "1\n",
            "2\n",
            "3\n",
            "4\n",
            "5\n",
            "6\n",
            "7\n",
            "8\n",
            "9\n",
            "10\n"
          ]
        }
      ]
    },
    {
      "cell_type": "code",
      "source": [
        "# 13 Write a Python program to find the sum of all even numbers between 1 and 50.\n",
        "tot = 0\n",
        "for i in range(1, 51):\n",
        "    if i % 2 == 0:\n",
        "        tot += i\n",
        "print(\"Sum of even numbers:\", tot)"
      ],
      "metadata": {
        "colab": {
          "base_uri": "https://localhost:8080/"
        },
        "id": "JEWanKXEL0Rz",
        "outputId": "f16de376-c08e-4bfa-d650-c5edeefb40e2"
      },
      "execution_count": 11,
      "outputs": [
        {
          "output_type": "stream",
          "name": "stdout",
          "text": [
            "Sum of even numbers: 650\n"
          ]
        }
      ]
    },
    {
      "cell_type": "code",
      "source": [
        "# 14 Write a program to reverse a string using a while loop.\n",
        "txt = input(\"Enter a string: \")\n",
        "rev = \"\"\n",
        "i = len(txt) - 1\n",
        "while i >= 0:\n",
        "    rev += txt[i]\n",
        "    i -= 1\n",
        "print(\"Reversed string:\", rev)"
      ],
      "metadata": {
        "colab": {
          "base_uri": "https://localhost:8080/"
        },
        "id": "xL-M37fHL30-",
        "outputId": "cd117d21-21d1-400f-ea95-7723d5d767af"
      },
      "execution_count": 12,
      "outputs": [
        {
          "output_type": "stream",
          "name": "stdout",
          "text": [
            "Enter a string: Data_analytics\n",
            "Reversed string: scitylana_ataD\n"
          ]
        }
      ]
    },
    {
      "cell_type": "code",
      "source": [
        "# 15 Write a Python program to calculate the factorial of a number provided by the user using a while loop.\n",
        "n = int(input(\"Enter a number: \"))\n",
        "fact = 1\n",
        "while n > 0:\n",
        "    fact *= n\n",
        "    n -= 1\n",
        "print(\"Factorial:\", fact)"
      ],
      "metadata": {
        "colab": {
          "base_uri": "https://localhost:8080/"
        },
        "id": "mIrNOlGgL65V",
        "outputId": "07604dbd-f920-4d50-c710-cfa6540dcab2"
      },
      "execution_count": 13,
      "outputs": [
        {
          "output_type": "stream",
          "name": "stdout",
          "text": [
            "Enter a number: 5\n",
            "Factorial: 120\n"
          ]
        }
      ]
    }
  ]
}